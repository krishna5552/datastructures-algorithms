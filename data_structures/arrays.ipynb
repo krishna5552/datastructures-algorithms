{
 "cells": [
  {
   "cell_type": "markdown",
   "id": "685f6b19",
   "metadata": {},
   "source": [
    "# Array"
   ]
  },
  {
   "cell_type": "markdown",
   "id": "0a7bb5ba",
   "metadata": {
    "vscode": {
     "languageId": "raw"
    }
   },
   "source": [
    "## Arrays: Key Points for Interviews\n",
    "\n",
    "- **Definition**: An array is a data structure that stores elements of the same type in a contiguous block of memory.\n",
    "- **Indexing**: Elements are accessed using zero-based indices (e.g., `arr[0]` for the first element).\n",
    "- **Time Complexity**:\n",
    "    - Access by index: O(1)\n",
    "    - Update by index: O(1)\n",
    "    - Insertion/Deletion at end: O(1) (amortized for dynamic arrays like Python lists)\n",
    "    - Insertion/Deletion at specific index: O(n)\n",
    "    - Search (linear): O(n)\n",
    "    - Search (binary, sorted array): O(log n)\n",
    "- **Advantages**:\n",
    "    - Fast access and update by index.\n",
    "    - Simple and efficient for storing and manipulating collections of data.\n",
    "- **Disadvantages**:\n",
    "    - Fixed size (for static arrays).\n",
    "    - Insertion and deletion (except at the end) can be slow due to shifting elements.\n",
    "- **Common Operations**:\n",
    "    - Traversal, insertion, deletion, searching, sorting.\n",
    "- **Python Note**: Python's list is a dynamic array, allowing resizing and various built-in methods."
   ]
  },
  {
   "cell_type": "code",
   "execution_count": 4,
   "id": "3630202a",
   "metadata": {},
   "outputs": [],
   "source": [
    "## Array (List) Implementation in Python\n",
    "\n",
    "\n",
    "### 1. Initialization\n",
    "arr = [10, 20, 30, 40, 50]\n",
    "\n"
   ]
  },
  {
   "cell_type": "markdown",
   "id": "012ae87d",
   "metadata": {
    "vscode": {
     "languageId": "plaintext"
    }
   },
   "source": []
  },
  {
   "cell_type": "code",
   "execution_count": 13,
   "id": "5f4eab45",
   "metadata": {},
   "outputs": [],
   "source": [
    "### 2. Access (by index)\n",
    "element = arr[2]  # Access element at index 2 (30)\n",
    "\n"
   ]
  },
  {
   "cell_type": "code",
   "execution_count": 12,
   "id": "cba8dbf8",
   "metadata": {},
   "outputs": [],
   "source": [
    "### 3. Update (by index)\n",
    "arr[2] = 35  # Update element at index 2 to 35\n",
    "\n"
   ]
  },
  {
   "cell_type": "code",
   "execution_count": 11,
   "id": "12208c25",
   "metadata": {},
   "outputs": [
    {
     "name": "stdout",
     "output_type": "stream",
     "text": [
      "10\n",
      "20\n",
      "25\n",
      "40\n",
      "60\n"
     ]
    }
   ],
   "source": [
    "### 4. Traversal\n",
    "for item in arr:\n",
    "    print(item)\n",
    "\n"
   ]
  },
  {
   "cell_type": "code",
   "execution_count": 10,
   "id": "6585d6fd",
   "metadata": {},
   "outputs": [],
   "source": [
    "### 5. Insertion (at end)\n",
    "arr.append(60)\n",
    "\n"
   ]
  },
  {
   "cell_type": "code",
   "execution_count": 9,
   "id": "4b05f281",
   "metadata": {},
   "outputs": [],
   "source": [
    "### 6. Insertion (at specific index)\n",
    "arr.insert(2, 25)  # Insert 25 at index 2\n",
    "\n"
   ]
  },
  {
   "cell_type": "code",
   "execution_count": 8,
   "id": "6d8321b0",
   "metadata": {},
   "outputs": [
    {
     "data": {
      "text/plain": [
       "50"
      ]
     },
     "execution_count": 8,
     "metadata": {},
     "output_type": "execute_result"
    }
   ],
   "source": [
    "### 7. Deletion (from end)\n",
    "arr.pop()\n",
    "\n"
   ]
  },
  {
   "cell_type": "code",
   "execution_count": 7,
   "id": "6a368446",
   "metadata": {},
   "outputs": [
    {
     "data": {
      "text/plain": [
       "30"
      ]
     },
     "execution_count": 7,
     "metadata": {},
     "output_type": "execute_result"
    }
   ],
   "source": [
    "### 8. Deletion (from specific index)\n",
    "arr.pop(2)  # Remove element at index 2\n",
    "\n"
   ]
  },
  {
   "cell_type": "code",
   "execution_count": 6,
   "id": "0f3ebbd5",
   "metadata": {},
   "outputs": [],
   "source": [
    "### 9. Searching (Linear)\n",
    "def linear_search(arr, target):\n",
    "    for i, value in enumerate(arr):\n",
    "        if value == target:\n",
    "            return i\n",
    "    return -1\n",
    "\n"
   ]
  },
  {
   "cell_type": "code",
   "execution_count": 5,
   "id": "34395107",
   "metadata": {},
   "outputs": [],
   "source": [
    "### 10. Searching (Binary)\n",
    "\n",
    "\"\"\"Note: Binary search requires the list to be sorted.\"\"\"\n",
    "def binary_search(arr, target):\n",
    "    left, right = 0, len(arr) - 1\n",
    "    while left <= right:\n",
    "        mid = (left + right) // 2\n",
    "        if arr[mid] == target:\n",
    "            return mid\n",
    "        elif arr[mid] < target:\n",
    "            left = mid + 1\n",
    "        else:\n",
    "            right = mid - 1\n",
    "    return -1\n",
    "\n"
   ]
  },
  {
   "cell_type": "markdown",
   "id": "6f276b86",
   "metadata": {},
   "source": []
  }
 ],
 "metadata": {
  "kernelspec": {
   "display_name": "Python 3",
   "language": "python",
   "name": "python3"
  },
  "language_info": {
   "codemirror_mode": {
    "name": "ipython",
    "version": 3
   },
   "file_extension": ".py",
   "mimetype": "text/x-python",
   "name": "python",
   "nbconvert_exporter": "python",
   "pygments_lexer": "ipython3",
   "version": "3.13.2"
  }
 },
 "nbformat": 4,
 "nbformat_minor": 5
}
