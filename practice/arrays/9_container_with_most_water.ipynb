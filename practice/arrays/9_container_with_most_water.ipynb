{
 "cells": [
  {
   "cell_type": "code",
   "execution_count": 8,
   "id": "87cbdc33",
   "metadata": {},
   "outputs": [],
   "source": [
    "from typing import List\n",
    "class Solution:\n",
    "    def maxArea(self, height: List[int]) -> int:\n",
    "        left = 0\n",
    "        right = len(height) - 1\n",
    "        area = 0\n",
    "        # print(\"Initial left:\", left, \"right:\", right, \"area:\", area)\n",
    "        while left < right:\n",
    "            # print(\"Current left:\", left, \"right:\", right, \"height[left]:\", height[left], \"height[right]:\", height[right])\n",
    "            area = max(area, (right - left) * min(height[left], height[right]))\n",
    "            # print(\"Updated area:\", area)\n",
    "            if height[left] < height[right]:\n",
    "                left += 1\n",
    "            else:\n",
    "                right -= 1\n",
    "        return area"
   ]
  },
  {
   "cell_type": "code",
   "execution_count": 9,
   "id": "e2ec6565",
   "metadata": {},
   "outputs": [
    {
     "name": "stdout",
     "output_type": "stream",
     "text": [
      "Array: [1, 8, 6, 2, 5, 4, 8, 3, 7]\n",
      "Maximum area of container with most water: 49\n"
     ]
    }
   ],
   "source": [
    "height = [1,8,6,2,5,4,8,3,7]\n",
    "target = 49\n",
    "print(\"Array:\", height)\n",
    "result = Solution().maxArea(height)\n",
    "print(\"Maximum area of container with most water:\", result)\n",
    "#array is sorted so we can use two pointer approach"
   ]
  },
  {
   "cell_type": "code",
   "execution_count": null,
   "id": "e536fb32",
   "metadata": {},
   "outputs": [],
   "source": [
    "#can't use brute force approach as it would take O(n^2) time\n",
    "#Time complexity: O(n)\n",
    "#Space complexity: O(1)\n",
    "#sorting is not needed as that would change the indices of the elements"
   ]
  },
  {
   "cell_type": "raw",
   "id": "5ca5729c",
   "metadata": {
    "vscode": {
     "languageId": "raw"
    }
   },
   "source": [
    "Can you explain why it's always the correct move to shift the pointer of the shorter line inward? Why can we safely discard the taller line's current position?\n",
    "\n",
    "The area is always limited by the shorter of the two lines. If we move the pointer of the taller line, the width decreases,\n",
    " and the height will either stay the same or decrease (since it's still limited by the original shorter line).\n",
    "This means we can't possibly find a larger area. Our only chance to find a larger area is to move the pointer of the shorter line,\n",
    " hoping to find a new, taller line that compensates for the decrease in width"
   ]
  },
  {
   "cell_type": "raw",
   "id": "5a6ec126",
   "metadata": {},
   "source": []
  }
 ],
 "metadata": {
  "kernelspec": {
   "display_name": "Python 3",
   "language": "python",
   "name": "python3"
  },
  "language_info": {
   "codemirror_mode": {
    "name": "ipython",
    "version": 3
   },
   "file_extension": ".py",
   "mimetype": "text/x-python",
   "name": "python",
   "nbconvert_exporter": "python",
   "pygments_lexer": "ipython3",
   "version": "3.13.2"
  }
 },
 "nbformat": 4,
 "nbformat_minor": 5
}
