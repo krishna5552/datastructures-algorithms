{
 "cells": [
  {
   "cell_type": "code",
   "execution_count": 1,
   "id": "404060ca",
   "metadata": {},
   "outputs": [],
   "source": [
    "def search_element(arr:list,target:int) -> int:\n",
    "    for i, val in enumerate(arr):\n",
    "        if val == target:return i\n",
    "    return -1"
   ]
  },
  {
   "cell_type": "code",
   "execution_count": 7,
   "id": "364fd36e",
   "metadata": {},
   "outputs": [
    {
     "name": "stdout",
     "output_type": "stream",
     "text": [
      "Array: [1, 2, 3, 4, 5, 5, 6, 7, 8, 9, 10]\n",
      "Target: 5\n",
      "Element 5 found at index 4.\n"
     ]
    }
   ],
   "source": [
    "arr = [1,2,3,4,5,5,6,7,8,9,10]\n",
    "target = 5\n",
    "print(\"Array:\", arr)\n",
    "print(\"Target:\", target)\n",
    "index = search_element(arr, target)\n",
    "if index != -1:\n",
    "    print(f\"Element {target} found at index {index}.\")\n",
    "else:\n",
    "    print(f\"Element {target} not found in the array.\")"
   ]
  },
  {
   "cell_type": "code",
   "execution_count": 8,
   "id": "1e33e496",
   "metadata": {},
   "outputs": [],
   "source": [
    "def binary_search(arr:list, target:int) -> int:\n",
    "    left, right = 0, len(arr) - 1\n",
    "    while left <= right:\n",
    "        mid = (left + right) // 2\n",
    "        if arr[mid] == target:\n",
    "            return mid\n",
    "        elif arr[mid] < target:\n",
    "            left = mid + 1\n",
    "        else:\n",
    "            right = mid - 1\n",
    "    return -1"
   ]
  },
  {
   "cell_type": "code",
   "execution_count": 6,
   "id": "015eed59",
   "metadata": {},
   "outputs": [
    {
     "name": "stdout",
     "output_type": "stream",
     "text": [
      "Array: [1, 2, 3, 4, 5, 5, 6, 7, 8, 9, 5, 10]\n",
      "Target: 5\n",
      "Element 5 found at index 4.\n"
     ]
    }
   ],
   "source": [
    "arr = [1,2,3,4,5,5,6,7,8,9,5,10]\n",
    "target = 5\n",
    "print(\"Array:\", arr)\n",
    "print(\"Target:\", target)\n",
    "index = search_element(arr, target)\n",
    "if index != -1:\n",
    "    print(f\"Element {target} found at index {index}.\")\n",
    "else:\n",
    "    print(f\"Element {target} not found in the array.\")"
   ]
  },
  {
   "cell_type": "raw",
   "id": "c0d14e63",
   "metadata": {
    "vscode": {
     "languageId": "raw"
    }
   },
   "source": [
    "searching for a specific value in an array can be done using linear search or binary search.\n",
    "linear search is O(n) time complexity, where n is the number of elements in the array.\n",
    "binary search is O(log n) time complexity, but requires the array to be sorted.\n"
   ]
  },
  {
   "cell_type": "raw",
   "id": "d08e0785",
   "metadata": {
    "vscode": {
     "languageId": "raw"
    }
   },
   "source": [
    "Scenario        Best Approach    Time Complexity    Space Complexity Notes\n",
    "\n",
    "Unsorted        Linear Search     O(N)               O(1)            Must check every element in worst case.\n",
    "\n",
    "Sorted          Binary Search.    O(log N)           O(1)            Efficiently halves the search space each time."
   ]
  },
  {
   "cell_type": "code",
   "execution_count": 9,
   "id": "8c692573",
   "metadata": {},
   "outputs": [],
   "source": [
    "def find_last_occurrence_unsorted(arr, target):\n",
    "  \"\"\"Finds the last index of a target in an unsorted array.\"\"\"\n",
    "  for i in range(len(arr) - 1, -1, -1):\n",
    "    if arr[i] == target:\n",
    "      return i\n",
    "  return -1 # Target not found"
   ]
  },
  {
   "cell_type": "code",
   "execution_count": 10,
   "id": "3f7645c5",
   "metadata": {},
   "outputs": [],
   "source": [
    "def find_second_occurrence_unsorted(arr, target):\n",
    "  \"\"\"Finds the second index of a target in an unsorted array.\"\"\"\n",
    "  count = 0\n",
    "  for i in range(len(arr)):\n",
    "    if arr[i] == target:\n",
    "      count += 1\n",
    "      if count == 2:\n",
    "        return i\n",
    "  return -1 # Second occurrence not found"
   ]
  },
  {
   "cell_type": "code",
   "execution_count": 11,
   "id": "ae9cc01f",
   "metadata": {},
   "outputs": [],
   "source": [
    "def find_last_occurrence_sorted(arr, target):\n",
    "  \"\"\"Finds the last index of a target in a sorted array.\"\"\"\n",
    "  low, high = 0, len(arr) - 1\n",
    "  result = -1\n",
    "  while low <= high:\n",
    "    mid = low + (high - low) // 2\n",
    "    if arr[mid] == target:\n",
    "      result = mid        # Found a potential answer\n",
    "      low = mid + 1       # But keep searching right for the last one\n",
    "    elif arr[mid] < target:\n",
    "      low = mid + 1\n",
    "    else:\n",
    "      high = mid - 1\n",
    "  return result"
   ]
  },
  {
   "cell_type": "code",
   "execution_count": 12,
   "id": "78afda20",
   "metadata": {},
   "outputs": [],
   "source": [
    "def find_first_occurrence_sorted(arr, target):\n",
    "  \"\"\"Helper function to find the first index of a target.\"\"\"\n",
    "  low, high = 0, len(arr) - 1\n",
    "  result = -1\n",
    "  while low <= high:\n",
    "    mid = low + (high - low) // 2\n",
    "    if arr[mid] == target:\n",
    "      result = mid        # Found a potential answer\n",
    "      high = mid - 1      # But keep searching left for the first one\n",
    "    elif arr[mid] < target:\n",
    "      low = mid + 1\n",
    "    else:\n",
    "      high = mid - 1\n",
    "  return result\n",
    "\n",
    "def find_second_occurrence_sorted(arr, target):\n",
    "  \"\"\"Finds the second index of a target in a sorted array.\"\"\"\n",
    "  first_index = find_first_occurrence_sorted(arr, target)\n",
    "\n",
    "  # If first occurrence exists and the next element is also the target\n",
    "  if first_index != -1 and first_index + 1 < len(arr) and arr[first_index + 1] == target:\n",
    "    return first_index + 1\n",
    "\n",
    "  return -1 # Second occurrence not found"
   ]
  },
  {
   "cell_type": "code",
   "execution_count": null,
   "id": "c6eee495",
   "metadata": {},
   "outputs": [],
   "source": []
  }
 ],
 "metadata": {
  "kernelspec": {
   "display_name": "Python 3",
   "language": "python",
   "name": "python3"
  },
  "language_info": {
   "codemirror_mode": {
    "name": "ipython",
    "version": 3
   },
   "file_extension": ".py",
   "mimetype": "text/x-python",
   "name": "python",
   "nbconvert_exporter": "python",
   "pygments_lexer": "ipython3",
   "version": "3.13.2"
  }
 },
 "nbformat": 4,
 "nbformat_minor": 5
}
