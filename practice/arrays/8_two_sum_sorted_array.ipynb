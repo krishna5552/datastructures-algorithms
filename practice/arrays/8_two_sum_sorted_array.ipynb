{
 "cells": [
  {
   "cell_type": "code",
   "execution_count": 2,
   "id": "2e45e6a0",
   "metadata": {},
   "outputs": [],
   "source": [
    "from typing import List\n",
    "class Solution:\n",
    "    def twoSum(self, numbers: List[int], target: int) -> List[int]:\n",
    "        left = 0\n",
    "        right = len(numbers) - 1\n",
    "        while left <= right:\n",
    "            if numbers[left] + numbers[right] == target:\n",
    "                return [left+1,right+1]\n",
    "            elif numbers[left] + numbers[right] < target:\n",
    "                left += 1\n",
    "            else:\n",
    "                right -= 1"
   ]
  },
  {
   "cell_type": "code",
   "execution_count": 3,
   "id": "9431bdd3",
   "metadata": {},
   "outputs": [
    {
     "name": "stdout",
     "output_type": "stream",
     "text": [
      "Array: [2, 7, 11, 15]\n",
      "Indices of elements that sum to target: [1, 2]\n"
     ]
    }
   ],
   "source": [
    "numbers = [2,7,11,15]\n",
    "target = 9\n",
    "print(\"Array:\", numbers)\n",
    "result = Solution().twoSum(numbers, target)\n",
    "print(\"Indices of elements that sum to target:\", result)"
   ]
  },
  {
   "cell_type": "code",
   "execution_count": null,
   "id": "b14a5f68",
   "metadata": {},
   "outputs": [],
   "source": [
    "#array is sorted so we can use two pointer approach\n",
    "#Time complexity: O(n)\n",
    "#Space complexity: O(1) "
   ]
  },
  {
   "cell_type": "raw",
   "id": "385f536b",
   "metadata": {
    "vscode": {
     "languageId": "raw"
    }
   },
   "source": [
    "Code Refinement\n",
    "Your while left <= right: condition is correct, but a slightly more precise condition would be while left < right:.\n",
    "\n",
    "Why? The problem states you need to find two numbers, which implies they must be at different indices. \n",
    "If left and right become equal (left == right), they are pointing to the same element, which can't be part of the solution.\n",
    " Therefore, the loop only needs to run as long as the pointers are at different positions."
   ]
  },
  {
   "cell_type": "raw",
   "id": "15008543",
   "metadata": {},
   "source": []
  }
 ],
 "metadata": {
  "kernelspec": {
   "display_name": "Python 3",
   "language": "python",
   "name": "python3"
  },
  "language_info": {
   "codemirror_mode": {
    "name": "ipython",
    "version": 3
   },
   "file_extension": ".py",
   "mimetype": "text/x-python",
   "name": "python",
   "nbconvert_exporter": "python",
   "pygments_lexer": "ipython3",
   "version": "3.13.2"
  }
 },
 "nbformat": 4,
 "nbformat_minor": 5
}
