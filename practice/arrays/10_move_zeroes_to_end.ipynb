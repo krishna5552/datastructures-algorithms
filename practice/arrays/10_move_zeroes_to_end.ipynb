{
 "cells": [
  {
   "cell_type": "code",
   "execution_count": 8,
   "id": "cc6c6fbf",
   "metadata": {},
   "outputs": [],
   "source": [
    "from typing import List\n",
    "class Solution:\n",
    "    def moveZeroes(self, nums: List[int]) -> None:\n",
    "        \"\"\"\n",
    "        Do not return anything, modify nums in-place instead.\n",
    "        \"\"\"\n",
    "        slow = 0\n",
    "        fast = 1\n",
    "        while fast < len(nums):\n",
    "            if nums[slow] == 0 and nums[fast] != 0:\n",
    "                nums[slow], nums[fast] = nums[fast], nums[slow]\n",
    "                slow += 1\n",
    "            elif nums[slow] != 0:\n",
    "                slow += 1\n",
    "            fast += 1\n"
   ]
  },
  {
   "cell_type": "code",
   "execution_count": 9,
   "id": "81919b87",
   "metadata": {},
   "outputs": [
    {
     "name": "stdout",
     "output_type": "stream",
     "text": [
      "Array before moving zeroes: [0, 0, 2, 7, 11, 0, 0, 15]\n",
      "Array after moving zeroes to the end: [2, 7, 11, 15, 0, 0, 0, 0]\n"
     ]
    }
   ],
   "source": [
    "numbers = [0,0,2,7,11,0,0,15]\n",
    "print(\"Array before moving zeroes:\", numbers)\n",
    "Solution().moveZeroes(numbers)\n",
    "print(\"Array after moving zeroes to the end:\", numbers)"
   ]
  },
  {
   "cell_type": "raw",
   "id": "d31e279b",
   "metadata": {
    "vscode": {
     "languageId": "raw"
    }
   },
   "source": [
    "nums = [0, 1, 0, 3, 12]\n",
    "\n",
    "0,1,0,3,12\n",
    "slow = 0\n",
    "fast = 1\n",
    "conditions fast should be less than length of nums\n",
    "if slow is zero and fast is not zero then swap the elements at slow and fast indices\n",
    "if slow is zero and fast is zero then increase the fast by 1 and then swap the elements at slow and fast indices\n",
    "if slow is not zero then increment slow by 1\n"
   ]
  },
  {
   "cell_type": "code",
   "execution_count": 12,
   "id": "ab16c5dd",
   "metadata": {},
   "outputs": [],
   "source": [
    "#optimized solution\n",
    "from typing import List\n",
    "\n",
    "class Solution:\n",
    "    def moveZeroes(self, nums: List[int]) -> None:\n",
    "        write_ptr = 0\n",
    "        \n",
    "        # Move all non-zero elements to the front\n",
    "        for read_ptr in range(len(nums)):\n",
    "            if nums[read_ptr] != 0:\n",
    "                nums[write_ptr] = nums[read_ptr]\n",
    "                write_ptr += 1\n",
    "        \n",
    "        # Fill the remaining space with zeros\n",
    "        for i in range(write_ptr, len(nums)):\n",
    "            nums[i] = 0"
   ]
  },
  {
   "cell_type": "code",
   "execution_count": null,
   "id": "0f9b3a58",
   "metadata": {},
   "outputs": [],
   "source": []
  }
 ],
 "metadata": {
  "kernelspec": {
   "display_name": "Python 3",
   "language": "python",
   "name": "python3"
  },
  "language_info": {
   "codemirror_mode": {
    "name": "ipython",
    "version": 3
   },
   "file_extension": ".py",
   "mimetype": "text/x-python",
   "name": "python",
   "nbconvert_exporter": "python",
   "pygments_lexer": "ipython3",
   "version": "3.13.2"
  }
 },
 "nbformat": 4,
 "nbformat_minor": 5
}
