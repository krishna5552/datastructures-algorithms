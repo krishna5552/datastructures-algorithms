{
 "cells": [
  {
   "cell_type": "code",
   "execution_count": 15,
   "id": "ba4f4460",
   "metadata": {},
   "outputs": [],
   "source": [
    "from typing import List\n",
    "class Solution:\n",
    "    def twoSum(self, nums: List[int], target: int) -> List[int]:\n",
    "        for i in range(len(nums)):\n",
    "            for j in range(i+1,len(nums)):\n",
    "                if nums[i] + nums[j] == target:\n",
    "                    return [i,j]"
   ]
  },
  {
   "cell_type": "code",
   "execution_count": 16,
   "id": "908d9b5d",
   "metadata": {},
   "outputs": [
    {
     "name": "stdout",
     "output_type": "stream",
     "text": [
      "Array: [2, 7, 11, 15]\n",
      "Indices of elements that sum to target: [0, 1]\n"
     ]
    }
   ],
   "source": [
    "arr = [2,7,11,15]\n",
    "target = 9\n",
    "print(\"Array:\", arr)\n",
    "result = Solution.twoSum(None, arr, target)\n",
    "print(\"Indices of elements that sum to target:\", result)"
   ]
  },
  {
   "cell_type": "code",
   "execution_count": null,
   "id": "6a3b9d92",
   "metadata": {},
   "outputs": [],
   "source": [
    "#It is unsorted array, so can't use two pointer approach\n",
    "#Thought of sorting and then using two pointer approach, but that would change the indices of the elements\n",
    "#So, we will use brute force approach to find the indices of the elements that sum to target\n",
    "#Time complexity: O(n^2)\n",
    "#Space complexity: O(1)"
   ]
  },
  {
   "cell_type": "raw",
   "id": "81ad7578",
   "metadata": {
    "vscode": {
     "languageId": "raw"
    }
   },
   "source": [
    "Think about the nested loop. The inner loop's only job is to find a \"partner\" for the number in the outer loop. That searching part is what costs us time. What if we could make that search instantaneous, or nearly instantaneous (O(1))?\n",
    "\n",
    "What data structure gives us very fast lookups?\n",
    "\n",
    "Create an empty hash map called seen.\n",
    "\n",
    "Iterate through the nums array once, keeping track of the current number (num) and its index (i).\n",
    "\n",
    "For each num, calculate the complement you need: complement = target - num.\n",
    "\n",
    "Now, the crucial step: check if this complement already exists as a key in your seen map.\n",
    "\n",
    "If it does, you've found your pair! The complement is in the map, and the current num is its partner. You can immediately return the index of the complement (which you stored as the value in the map) and the current index i.\n",
    "\n",
    "If it doesn't, add the current number and its index to the map (seen[num] = i). This prepares you for future iterations, in case a later number needs the current one as its complement."
   ]
  },
  {
   "cell_type": "code",
   "execution_count": 17,
   "id": "f2598450",
   "metadata": {},
   "outputs": [],
   "source": [
    "from typing import List\n",
    "\n",
    "class Solution:\n",
    "    def twoSum(self, nums: List[int], target: int) -> List[int]:\n",
    "        seen = {}  # A hash map to store {number: index}\n",
    "        for i, num in enumerate(nums):\n",
    "            complement = target - num\n",
    "            if complement in seen:\n",
    "                return [seen[complement], i]\n",
    "            seen[num] = i"
   ]
  },
  {
   "cell_type": "raw",
   "id": "da0fae8a",
   "metadata": {},
   "source": []
  }
 ],
 "metadata": {
  "kernelspec": {
   "display_name": "Python 3",
   "language": "python",
   "name": "python3"
  },
  "language_info": {
   "codemirror_mode": {
    "name": "ipython",
    "version": 3
   },
   "file_extension": ".py",
   "mimetype": "text/x-python",
   "name": "python",
   "nbconvert_exporter": "python",
   "pygments_lexer": "ipython3",
   "version": "3.13.2"
  }
 },
 "nbformat": 4,
 "nbformat_minor": 5
}
