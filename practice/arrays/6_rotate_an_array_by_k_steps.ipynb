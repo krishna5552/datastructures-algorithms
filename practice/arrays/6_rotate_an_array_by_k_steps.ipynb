{
 "cells": [
  {
   "cell_type": "code",
   "execution_count": 43,
   "id": "78d630e6",
   "metadata": {},
   "outputs": [
    {
     "name": "stdout",
     "output_type": "stream",
     "text": [
      "[5, 6, 7, 1, 2, 3, 4]\n"
     ]
    }
   ],
   "source": [
    "def reverse(arr, start, end):\n",
    "  \"\"\"Helper function to reverse a portion of the array.\"\"\"\n",
    "  while start < end:\n",
    "    arr[start], arr[end] = arr[end], arr[start]\n",
    "    start += 1\n",
    "    end -= 1\n",
    "\n",
    "def rotate_array(arr, k):\n",
    "  \"\"\"Rotates an array to the right by k steps using the Reversal Algorithm.\"\"\"\n",
    "  n = len(arr)\n",
    "  if n == 0:\n",
    "    return\n",
    "\n",
    "  # Handle cases where k is larger than the array size\n",
    "  k = k % n\n",
    "\n",
    "  # 1. Reverse the entire array\n",
    "  reverse(arr, 0, n - 1)\n",
    "  \n",
    "  # 2. Reverse the first k elements\n",
    "  reverse(arr, 0, k - 1)\n",
    "\n",
    "  # 3. Reverse the remaining n-k elements\n",
    "  reverse(arr, k, n - 1)\n",
    "\n",
    "# Example usage:\n",
    "my_array = [1, 2, 3, 4, 5, 6, 7]\n",
    "rotate_array(my_array, 3)\n",
    "print(my_array) # Output: [5, 6, 7, 1, 2, 3, 4]"
   ]
  },
  {
   "cell_type": "raw",
   "id": "f5fa1949",
   "metadata": {
    "vscode": {
     "languageId": "raw"
    }
   },
   "source": [
    "Feature               arr[::-1]                           Two-Pointer In-Place reverse() \n",
    "\n",
    "Space Complexity      O(n)                                O(1)\n",
    "\n",
    "Mutability            Immutable (non-destructive)         Mutable (destructive)\n",
    "\n",
    "Flexibility           Reverses the entire array           Can reverse any portion of the array\n",
    "\n",
    "Readability           High (for full reversal)            Requires a helper function"
   ]
  },
  {
   "cell_type": "raw",
   "id": "84544d58",
   "metadata": {},
   "source": []
  }
 ],
 "metadata": {
  "kernelspec": {
   "display_name": "Python 3",
   "language": "python",
   "name": "python3"
  },
  "language_info": {
   "codemirror_mode": {
    "name": "ipython",
    "version": 3
   },
   "file_extension": ".py",
   "mimetype": "text/x-python",
   "name": "python",
   "nbconvert_exporter": "python",
   "pygments_lexer": "ipython3",
   "version": "3.13.2"
  }
 },
 "nbformat": 4,
 "nbformat_minor": 5
}
