{
 "cells": [
  {
   "cell_type": "code",
   "execution_count": 2,
   "id": "dfb7b23c",
   "metadata": {},
   "outputs": [],
   "source": [
    "def reverse_array(arr:list) -> list:\n",
    "    \"\"\"reverse the array in place\"\"\"\n",
    "    left = 0\n",
    "    right = len(arr) - 1\n",
    "    while left < right:\n",
    "        arr[left],arr[right] = arr[right], arr[left]\n",
    "        left += 1\n",
    "        right -= 1\n",
    "    return arr"
   ]
  },
  {
   "cell_type": "code",
   "execution_count": 3,
   "id": "206b57e1",
   "metadata": {},
   "outputs": [
    {
     "name": "stdout",
     "output_type": "stream",
     "text": [
      "Original array: [1, 2, 3, 4, 5, 6, 7, 8, 9, 10]\n",
      "Reversed array: [10, 9, 8, 7, 6, 5, 4, 3, 2, 1]\n"
     ]
    }
   ],
   "source": [
    "arr = [1,2,3,4,5,6,7,8,9,10]\n",
    "print(\"Original array:\", arr)\n",
    "reversed_arr = reverse_array(arr)\n",
    "print(\"Reversed array:\", reversed_arr)"
   ]
  },
  {
   "cell_type": "raw",
   "id": "a2993073",
   "metadata": {
    "vscode": {
     "languageId": "raw"
    }
   },
   "source": [
    "Reverse an array in place using two pointers technique.\n",
    "This method swaps elements from the start and end of the array until they meet in the middle.\n",
    "Sorted arrays can also be reversed using this method.\n",
    "O(n) time complexity, where n is the number of elements in the array.\n",
    "o(1) space complexity since it modifies the array in place."
   ]
  },
  {
   "cell_type": "raw",
   "id": "9f99320c",
   "metadata": {},
   "source": []
  }
 ],
 "metadata": {
  "kernelspec": {
   "display_name": "Python 3",
   "language": "python",
   "name": "python3"
  },
  "language_info": {
   "codemirror_mode": {
    "name": "ipython",
    "version": 3
   },
   "file_extension": ".py",
   "mimetype": "text/x-python",
   "name": "python",
   "nbconvert_exporter": "python",
   "pygments_lexer": "ipython3",
   "version": "3.13.2"
  }
 },
 "nbformat": 4,
 "nbformat_minor": 5
}
