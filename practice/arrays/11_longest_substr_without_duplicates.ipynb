{
 "cells": [
  {
   "cell_type": "code",
   "execution_count": 2,
   "id": "ff8f719c",
   "metadata": {},
   "outputs": [
    {
     "name": "stdout",
     "output_type": "stream",
     "text": [
      "Length of the longest substring without repeating characters: 3\n"
     ]
    }
   ],
   "source": [
    "s = \"abcabcbb\"\n",
    "\n",
    "max_length = 0\n",
    "for i in range(len(s)):\n",
    "    for j in range(i + 1, len(s) + 1):\n",
    "        substring = s[i:j]\n",
    "        if len(substring) == len(set(substring)):\n",
    "            max_length = max(max_length, len(substring))\n",
    "print(\"Length of the longest substring without repeating characters:\", max_length)"
   ]
  },
  {
   "cell_type": "code",
   "execution_count": 3,
   "id": "1241bc8f",
   "metadata": {},
   "outputs": [
    {
     "name": "stdout",
     "output_type": "stream",
     "text": [
      "Length of the longest substring without repeating characters (optimized): 3\n"
     ]
    }
   ],
   "source": [
    "#optimized solution\n",
    "char_set = set()\n",
    "left = 0\n",
    "max_length = 0\n",
    "for right in range(len(s)):\n",
    "    while s[right] in char_set:\n",
    "        char_set.remove(s[left])\n",
    "        left += 1\n",
    "    char_set.add(s[right])\n",
    "    max_length = max(max_length, right - left + 1)\n",
    "print(\"Length of the longest substring without repeating characters (optimized):\", max_length)"
   ]
  },
  {
   "cell_type": "code",
   "execution_count": null,
   "id": "4ae46e46",
   "metadata": {},
   "outputs": [],
   "source": []
  }
 ],
 "metadata": {
  "kernelspec": {
   "display_name": "Python 3",
   "language": "python",
   "name": "python3"
  },
  "language_info": {
   "codemirror_mode": {
    "name": "ipython",
    "version": 3
   },
   "file_extension": ".py",
   "mimetype": "text/x-python",
   "name": "python",
   "nbconvert_exporter": "python",
   "pygments_lexer": "ipython3",
   "version": "3.13.2"
  }
 },
 "nbformat": 4,
 "nbformat_minor": 5
}
