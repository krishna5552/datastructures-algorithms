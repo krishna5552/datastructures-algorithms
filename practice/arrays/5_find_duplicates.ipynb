{
 "cells": [
  {
   "cell_type": "code",
   "execution_count": 1,
   "id": "125e45c8",
   "metadata": {},
   "outputs": [
    {
     "name": "stdout",
     "output_type": "stream",
     "text": [
      "Duplicates found:\n",
      "Element 5 appears 2 times.\n",
      "Element 7 appears 2 times.\n",
      "Array: [1, 2, 3, 4, 5, 5, 7, 7, 8, 9, 10]\n",
      "Duplicates: {1: 1, 2: 1, 3: 1, 4: 1, 5: 2, 7: 2, 8: 1, 9: 1, 10: 1}\n",
      "Note: This code finds duplicates in an array and counts their occurrences.\n"
     ]
    }
   ],
   "source": [
    "arr = [1,2,3,4,5,5,7,7,8,9,10]\n",
    "duplicates = dict()\n",
    "for i in arr:\n",
    "    if i in duplicates:\n",
    "        duplicates[i] += 1\n",
    "    else:\n",
    "        duplicates[i] = 1\n",
    "if duplicates:\n",
    "    print(\"Duplicates found:\")\n",
    "    for key, value in duplicates.items():\n",
    "        if value > 1:\n",
    "            print(f\"Element {key} appears {value} times.\")\n",
    "else:\n",
    "    print(\"No duplicates found.\")\n",
    "print(\"Array:\", arr)\n",
    "print(\"Duplicates:\", duplicates)\n",
    "print(\"Note: This code finds duplicates in an array and counts their occurrences.\")"
   ]
  },
  {
   "cell_type": "code",
   "execution_count": null,
   "id": "c3524e77",
   "metadata": {},
   "outputs": [],
   "source": []
  }
 ],
 "metadata": {
  "kernelspec": {
   "display_name": "Python 3",
   "language": "python",
   "name": "python3"
  },
  "language_info": {
   "codemirror_mode": {
    "name": "ipython",
    "version": 3
   },
   "file_extension": ".py",
   "mimetype": "text/x-python",
   "name": "python",
   "nbconvert_exporter": "python",
   "pygments_lexer": "ipython3",
   "version": "3.13.2"
  }
 },
 "nbformat": 4,
 "nbformat_minor": 5
}
