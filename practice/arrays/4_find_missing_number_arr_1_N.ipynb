{
 "cells": [
  {
   "cell_type": "code",
   "execution_count": 2,
   "id": "59e1dc7a",
   "metadata": {},
   "outputs": [],
   "source": [
    "\n",
    "def find_missing_number(arr):\n",
    "    n = len(arr) + 1  # Since one number is missing\n",
    "    total_sum = n * (n + 1) // 2  # Sum of first n natural numbers\n",
    "    arr_sum = sum(arr)  # Sum of the given array\n",
    "    return total_sum - arr_sum  # The missing number"
   ]
  },
  {
   "cell_type": "code",
   "execution_count": 3,
   "id": "d0318a36",
   "metadata": {},
   "outputs": [
    {
     "name": "stdout",
     "output_type": "stream",
     "text": [
      "Array: [1, 2, 3, 4, 5, 6, 7, 8, 10]\n",
      "Missing number: 9\n"
     ]
    }
   ],
   "source": [
    "a = [1,2,3,4,5,6,7,8,10]\n",
    "print(\"Array:\", a)\n",
    "missing_number = find_missing_number(a)\n",
    "print(\"Missing number:\", missing_number)"
   ]
  },
  {
   "cell_type": "code",
   "execution_count": null,
   "id": "f4dad5b6",
   "metadata": {},
   "outputs": [],
   "source": []
  }
 ],
 "metadata": {
  "kernelspec": {
   "display_name": "Python 3",
   "language": "python",
   "name": "python3"
  },
  "language_info": {
   "codemirror_mode": {
    "name": "ipython",
    "version": 3
   },
   "file_extension": ".py",
   "mimetype": "text/x-python",
   "name": "python",
   "nbconvert_exporter": "python",
   "pygments_lexer": "ipython3",
   "version": "3.13.2"
  }
 },
 "nbformat": 4,
 "nbformat_minor": 5
}
