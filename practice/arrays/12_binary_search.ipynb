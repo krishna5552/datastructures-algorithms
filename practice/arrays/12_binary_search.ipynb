{
 "cells": [
  {
   "cell_type": "code",
   "execution_count": 2,
   "id": "59976b9a",
   "metadata": {},
   "outputs": [],
   "source": [
    "from typing import List\n",
    "class Solution:\n",
    "    def search(self, nums: List[int], target: int) -> int:\n",
    "        left = 0\n",
    "        right = len(nums) - 1\n",
    "        while left <= right:\n",
    "            mid = (left + right) // 2\n",
    "            if nums[mid] == target:\n",
    "                return mid\n",
    "            elif nums[mid] < target:\n",
    "                left = mid + 1\n",
    "            else:\n",
    "                right = mid - 1\n",
    "        return -1\n",
    "\n",
    "\n",
    "        "
   ]
  },
  {
   "cell_type": "code",
   "execution_count": 4,
   "id": "81fe9fad",
   "metadata": {},
   "outputs": [
    {
     "name": "stdout",
     "output_type": "stream",
     "text": [
      "Array: [-1, 0, 3, 5, 9, 12]\n",
      "Target: 9\n",
      "Target 9 found at index 4.\n"
     ]
    }
   ],
   "source": [
    "numbers = [-1,0,3,5,9,12]\n",
    "target = 9\n",
    "print(\"Array:\", numbers)\n",
    "print(\"Target:\", target)    \n",
    "result = Solution().search(numbers, target)\n",
    "if result != -1:\n",
    "    print(f\"Target {target} found at index {result}.\")\n",
    "else:\n",
    "    print(f\"Target {target} not found in the array.\")"
   ]
  },
  {
   "cell_type": "code",
   "execution_count": null,
   "id": "f9c04969",
   "metadata": {},
   "outputs": [],
   "source": []
  }
 ],
 "metadata": {
  "kernelspec": {
   "display_name": "Python 3",
   "language": "python",
   "name": "python3"
  },
  "language_info": {
   "codemirror_mode": {
    "name": "ipython",
    "version": 3
   },
   "file_extension": ".py",
   "mimetype": "text/x-python",
   "name": "python",
   "nbconvert_exporter": "python",
   "pygments_lexer": "ipython3",
   "version": "3.13.2"
  }
 },
 "nbformat": 4,
 "nbformat_minor": 5
}
