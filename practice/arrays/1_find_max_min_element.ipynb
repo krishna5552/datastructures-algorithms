{
 "cells": [
  {
   "cell_type": "code",
   "execution_count": 8,
   "id": "a5988e68",
   "metadata": {},
   "outputs": [
    {
     "name": "stdout",
     "output_type": "stream",
     "text": [
      "Maximum value in the array: 5\n"
     ]
    }
   ],
   "source": [
    "arr = [1,2,3,4,5]\n",
    "\n",
    "max_value = -float('inf')  # Initialize to negative infinity\n",
    "for i in arr:\n",
    "    if i > max_value:\n",
    "        max_value = i\n",
    "print(\"Maximum value in the array:\", max_value)"
   ]
  },
  {
   "cell_type": "code",
   "execution_count": 9,
   "id": "d76c3c17",
   "metadata": {},
   "outputs": [
    {
     "name": "stdout",
     "output_type": "stream",
     "text": [
      "Index: 0 Value: 1\n",
      "Index: 1 Value: 2\n",
      "Index: 2 Value: 3\n",
      "Index: 3 Value: 4\n",
      "Index: 4 Value: 5\n",
      "Minimum value in the array: 1\n"
     ]
    }
   ],
   "source": [
    "min_value = float('inf')  # Initialize to positive infinity\n",
    "for i,val in enumerate(arr):\n",
    "    print(\"Index:\", i, \"Value:\", val)\n",
    "    if  val < min_value:\n",
    "        min_value = val\n",
    "print(\"Minimum value in the array:\", min_value)"
   ]
  },
  {
   "cell_type": "raw",
   "id": "5b1ff109",
   "metadata": {},
   "source": [
    "Finding the maximum and minimum values in an array.\n",
    "Unsorted arrays can be traversed to find the maximum and minimum values.\n",
    "This is a linear time operation, O(n), where n is the number of elements in the array.\n",
    "For sorted arrays, the maximum value is at the last index and the minimum value is at the first index."
   ]
  },
  {
   "cell_type": "code",
   "execution_count": null,
   "id": "9a3bbe7f",
   "metadata": {},
   "outputs": [],
   "source": []
  }
 ],
 "metadata": {
  "kernelspec": {
   "display_name": "Python 3",
   "language": "python",
   "name": "python3"
  },
  "language_info": {
   "codemirror_mode": {
    "name": "ipython",
    "version": 3
   },
   "file_extension": ".py",
   "mimetype": "text/x-python",
   "name": "python",
   "nbconvert_exporter": "python",
   "pygments_lexer": "ipython3",
   "version": "3.13.2"
  }
 },
 "nbformat": 4,
 "nbformat_minor": 5
}
