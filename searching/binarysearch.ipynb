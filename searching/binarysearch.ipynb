{
 "cells": [
  {
   "cell_type": "markdown",
   "id": "9e2759d2",
   "metadata": {
    "vscode": {
     "languageId": "raw"
    }
   },
   "source": [
    "Binary search is a fundamental algorithm used to efficiently find an element in a sorted array or list. It works by repeatedly dividing the search interval in half, comparing the target value to the middle element, and narrowing the search to the appropriate half. The time complexity is O(log n), making it much faster than linear search for large datasets.\n",
    "\n",
    "**Variations of Binary Search:**\n",
    "- **Finding the first or last occurrence:** Useful when the array contains duplicate elements and you need the position of the first or last instance.\n",
    "- **Searching in a rotated sorted array:** Common in interview questions where the array has been rotated at some pivot.\n",
    "- **Binary search on answer:** Used in problems where you search for the minimum or maximum feasible value, such as optimization problems (e.g., finding the minimum capacity to ship packages within D days).\n",
    "- **Lower and upper bounds:** Finding the smallest index where a condition is true (lower bound) or the largest index where a condition is true (upper bound).\n",
    "\n",
    "**When to Use Binary Search:**\n",
    "- The data must be sorted or monotonic (increasing or decreasing).\n",
    "- When you need efficient search, or to find boundaries (first/last occurrence, lower/upper bound).\n",
    "- In optimization problems where the solution space can be searched using binary search.\n",
    "\n",
    "**Tip for Interviews:**  \n",
    "Always clarify the problem constraints and edge cases. Be ready to adapt the standard binary search to handle variations like duplicates, rotated arrays, or custom conditions. Understanding these variations is key to solving many real-world and interview problems efficiently."
   ]
  },
  {
   "cell_type": "code",
   "execution_count": 2,
   "id": "65e72b36",
   "metadata": {},
   "outputs": [
    {
     "name": "stdout",
     "output_type": "stream",
     "text": [
      "First occurrence: 1\n",
      "Last occurrence: 3\n"
     ]
    }
   ],
   "source": [
    "\n",
    "### Binary Search: Finding First and Last Occurrence in a Sorted Array\n",
    "\n",
    "# Below is a Python implementation to find the **first** and **last** occurrence of a target value in a sorted array using binary search. This is useful when the array contains duplicates and you need the index of the first or last instance.\n",
    "\n",
    "def find_first(arr, target):\n",
    "    left, right = 0, len(arr) - 1\n",
    "    result = -1  # Store the index of first occurrence\n",
    "    while left <= right:\n",
    "        mid = (left + right) // 2\n",
    "        if arr[mid] == target:\n",
    "            result = mid           # Found target, record index\n",
    "            right = mid - 1        # Move left to find earlier occurrence\n",
    "        elif arr[mid] < target:\n",
    "            left = mid + 1         # Search right half\n",
    "        else:\n",
    "            right = mid - 1        # Search left half\n",
    "    return result\n",
    "\n",
    "def find_last(arr, target):\n",
    "    left, right = 0, len(arr) - 1\n",
    "    result = -1  # Store the index of last occurrence\n",
    "    while left <= right:\n",
    "        mid = (left + right) // 2\n",
    "        if arr[mid] == target:\n",
    "            result = mid           # Found target, record index\n",
    "            left = mid + 1         # Move right to find later occurrence\n",
    "        elif arr[mid] < target:\n",
    "            left = mid + 1         # Search right half\n",
    "        else:\n",
    "            right = mid - 1        # Search left half\n",
    "    return result\n",
    "\n",
    "# Example usage:\n",
    "arr = [1, 2, 2, 2, 3, 4, 5]\n",
    "target = 2\n",
    "print(\"First occurrence:\", find_first(arr, target))  # Output: 1\n",
    "print(\"Last occurrence:\", find_last(arr, target))    # Output: 3\n",
    "\n",
    "\n",
    "# **Explanation:**\n",
    "# - Both functions use binary search to efficiently locate the target.\n",
    "# - When the target is found, the index is recorded, but the search continues (left for first, right for last) to find the boundary.\n",
    "# - If the target is not found, `-1` is returned.\n"
   ]
  },
  {
   "cell_type": "code",
   "execution_count": null,
   "id": "6fe4fef2",
   "metadata": {},
   "outputs": [],
   "source": [
    "# Binary Search: Standard Implementation in a Sorted Array\n",
    "# This function searches for a target value in a sorted array.\n",
    "# If the target exists, it returns its index; otherwise, it returns -1.\n",
    "\n",
    "def binary_search(arr, target):\n",
    "    left, right = 0, len(arr) - 1  # Initialize pointers to start and end of array\n",
    "    while left <= right:\n",
    "        mid = (left + right) // 2  # Find the middle index\n",
    "        if arr[mid] == target:\n",
    "            return mid              # Target found, return its index\n",
    "        elif arr[mid] < target:\n",
    "            left = mid + 1          # Target is in right half, move left pointer\n",
    "        else:\n",
    "            right = mid - 1         # Target is in left half, move right pointer\n",
    "    return -1                       # Target not found\n",
    "\n",
    "# Example usage:\n",
    "index = binary_search(arr, target)\n",
    "print(f\"Target {target} found at index: {index}\")\n",
    "\n",
    "# Detailed comments:\n",
    "# - The array must be sorted for binary search to work.\n",
    "# - The search space is halved each iteration, making it efficient (O(log n)).\n",
    "# - If the target is not present, the function returns -1.\n",
    "# - If there are duplicates, this returns any one of their indices (not necessarily first or last)."
   ]
  },
  {
   "cell_type": "code",
   "execution_count": null,
   "id": "94b83894",
   "metadata": {},
   "outputs": [],
   "source": []
  },
  {
   "cell_type": "code",
   "execution_count": null,
   "id": "59d1ef8c",
   "metadata": {
    "vscode": {
     "languageId": "markdown"
    }
   },
   "outputs": [],
   "source": []
  }
 ],
 "metadata": {
  "kernelspec": {
   "display_name": "Python 3",
   "language": "python",
   "name": "python3"
  },
  "language_info": {
   "codemirror_mode": {
    "name": "ipython",
    "version": 3
   },
   "file_extension": ".py",
   "mimetype": "text/x-python",
   "name": "python",
   "nbconvert_exporter": "python",
   "pygments_lexer": "ipython3",
   "version": "3.13.2"
  }
 },
 "nbformat": 4,
 "nbformat_minor": 5
}
